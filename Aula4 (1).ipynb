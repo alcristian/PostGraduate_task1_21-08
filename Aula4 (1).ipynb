{
 "cells": [
  {
   "cell_type": "markdown",
   "metadata": {},
   "source": [
    "# <font color='blue'> UNISINOS - ESPECIALIZAÇÃO EM BIGA DATA, DATA SCIENCE E DATA ANALYTICS\n",
    "\n",
    "##### <font color='blue'> PROFa. PATRICIA KUYVEN\n",
    "    \n",
    "## <font color='blue'> Aula 4\n",
    "    \n",
    "## Trabalhando com Python no Jupyter Notebook\n",
    "    \n"
   ]
  },
  {
   "cell_type": "markdown",
   "metadata": {},
   "source": [
    "## 1.1 Operações matemáticas"
   ]
  },
  {
   "cell_type": "code",
   "execution_count": null,
   "metadata": {
    "collapsed": true
   },
   "outputs": [],
   "source": [
    "# soma\n",
    "2+3+7"
   ]
  },
  {
   "cell_type": "code",
   "execution_count": null,
   "metadata": {
    "collapsed": true
   },
   "outputs": [],
   "source": [
    "# divisão\n",
    "3/5"
   ]
  },
  {
   "cell_type": "code",
   "execution_count": null,
   "metadata": {
    "collapsed": true
   },
   "outputs": [],
   "source": [
    "# operação com arrays\n",
    "import numpy\n",
    "x = numpy.array([1, 2, 3, 4, 5])\n",
    "y = 2\n",
    "print(x + y)\n",
    "print(x - y)\n",
    "print(y - x)\n",
    "print(x * y)\n",
    "print(x / y)\n",
    "print(y / x)"
   ]
  },
  {
   "cell_type": "markdown",
   "metadata": {},
   "source": [
    "## 1.2 Trabalhando com strings"
   ]
  },
  {
   "cell_type": "code",
   "execution_count": null,
   "metadata": {
    "collapsed": true
   },
   "outputs": [],
   "source": [
    "# sinal \" + \" também serve para concatenar textos\n",
    "a=\"ontem\"\n",
    "b=\"hoje\"\n",
    "print(a+b)"
   ]
  },
  {
   "cell_type": "markdown",
   "metadata": {},
   "source": [
    "## 1.3 Abrindo/lendo csv com \"import csv\""
   ]
  },
  {
   "cell_type": "code",
   "execution_count": null,
   "metadata": {
    "collapsed": true
   },
   "outputs": [],
   "source": [
    "# importar o pacote csv\n",
    "import csv\n",
    "\n",
    "\n",
    "# lemos o arquivo CSV em disco \n",
    "base_evasao = open ('bs_evasao_para_aula4.csv')\n",
    "\n",
    "\n",
    "linhas = csv.reader(base_evasao)\n",
    "\n",
    "for linha in linhas:\n",
    "    print(linha)\n"
   ]
  },
  {
   "cell_type": "markdown",
   "metadata": {},
   "source": [
    "## 1.4 Pandas"
   ]
  },
  {
   "cell_type": "code",
   "execution_count": null,
   "metadata": {
    "collapsed": true
   },
   "outputs": [],
   "source": [
    "import pandas as pd\n",
    "# carregar o dataset disponível no material de aula \"bs_evasao_para_aula4.csv\" em memória\n",
    "dataset = pd.read_csv('bs_evasao_para_aula4.csv', sep=';')\n",
    "type(dataset)"
   ]
  },
  {
   "cell_type": "code",
   "execution_count": null,
   "metadata": {
    "collapsed": true
   },
   "outputs": [],
   "source": [
    "# visualizar as primeiras linhas do dataset\n",
    "dataset.head()"
   ]
  },
  {
   "cell_type": "code",
   "execution_count": null,
   "metadata": {
    "collapsed": true
   },
   "outputs": [],
   "source": [
    "# saber quais as colunas do dataset\n",
    "dataset.columns"
   ]
  },
  {
   "cell_type": "code",
   "execution_count": null,
   "metadata": {
    "collapsed": true
   },
   "outputs": [],
   "source": [
    "# saber quantas respostas tem em cada coluna do dataset\n",
    "dataset.count()"
   ]
  },
  {
   "cell_type": "code",
   "execution_count": null,
   "metadata": {
    "collapsed": true
   },
   "outputs": [],
   "source": [
    "# estatísticas básicas das variáveis do dataset\n",
    "dataset.describe()"
   ]
  },
  {
   "cell_type": "code",
   "execution_count": null,
   "metadata": {
    "collapsed": true
   },
   "outputs": [],
   "source": [
    "# distribuição de frequências da variável curso\n",
    "pd.value_counts(dataset['curso'])"
   ]
  },
  {
   "cell_type": "code",
   "execution_count": null,
   "metadata": {
    "collapsed": true
   },
   "outputs": [],
   "source": [
    "# ler a bade de dados segundo um critério\n",
    "dataset.loc[dataset['curso']==\"Gestão da Produção\"]"
   ]
  },
  {
   "cell_type": "code",
   "execution_count": null,
   "metadata": {
    "collapsed": true
   },
   "outputs": [],
   "source": [
    "# ler a bade de dados segundo três critérios\n",
    "dataset.loc[(dataset['curso']==\"Gestão da Produção\") & ( dataset['modalidade'] == 1) & (dataset['grau_exig'] == 1)]"
   ]
  },
  {
   "cell_type": "code",
   "execution_count": null,
   "metadata": {
    "collapsed": true
   },
   "outputs": [],
   "source": []
  },
  {
   "cell_type": "code",
   "execution_count": null,
   "metadata": {
    "collapsed": true
   },
   "outputs": [],
   "source": [
    "# cria nova coluna a partir de outra\n",
    "dataset['nova_variavel'] = (dataset[\"modalidade\"]*15)\n",
    "dataset['nova_variavel'] "
   ]
  },
  {
   "cell_type": "code",
   "execution_count": null,
   "metadata": {
    "collapsed": true
   },
   "outputs": [],
   "source": [
    "# categorizar/agrupar respostas de uma variável \n",
    "def categorizando(s):\n",
    "    if s >= 45:\n",
    "        return 'Big'\n",
    "    elif s >= 35:\n",
    "        return 'Medium'\n",
    "    elif s < 35:\n",
    "        return 'Small'"
   ]
  },
  {
   "cell_type": "code",
   "execution_count": null,
   "metadata": {
    "collapsed": true
   },
   "outputs": [],
   "source": [
    "\n",
    "dataset['tam_turma_rec'] = dataset['tamanho_turma'].apply(categorizando)"
   ]
  },
  {
   "cell_type": "code",
   "execution_count": null,
   "metadata": {
    "collapsed": true
   },
   "outputs": [],
   "source": [
    "dataset['tam_turma_rec'] "
   ]
  },
  {
   "cell_type": "code",
   "execution_count": null,
   "metadata": {
    "collapsed": true
   },
   "outputs": [],
   "source": [
    "# Verificar a contagem dessa coluna\n",
    "pd.value_counts(dataset['tam_turma_rec'])"
   ]
  },
  {
   "cell_type": "code",
   "execution_count": null,
   "metadata": {
    "collapsed": true,
    "scrolled": true
   },
   "outputs": [],
   "source": [
    "# Contagem de missing por coluna do dataset\n",
    "dataset.isnull().sum()"
   ]
  },
  {
   "cell_type": "markdown",
   "metadata": {},
   "source": [
    "## Gráficos"
   ]
  },
  {
   "cell_type": "code",
   "execution_count": null,
   "metadata": {
    "collapsed": true
   },
   "outputs": [],
   "source": [
    "dataset.plot(x='modalidade',y='num_disc_evadidas',kind='scatter', title='Evasão anterior x idade',color='r')"
   ]
  },
  {
   "cell_type": "code",
   "execution_count": null,
   "metadata": {
    "collapsed": true
   },
   "outputs": [],
   "source": [
    "dataset.plot(x='dist',y='num_disc_evadidas',kind='scatter', title='Evasão anterior x  evasão atual',color='b')"
   ]
  },
  {
   "cell_type": "code",
   "execution_count": null,
   "metadata": {
    "collapsed": true
   },
   "outputs": [],
   "source": [
    "dataset['idade'].corr(dataset['num_disc_evadidas'])"
   ]
  },
  {
   "cell_type": "code",
   "execution_count": null,
   "metadata": {
    "collapsed": true
   },
   "outputs": [],
   "source": []
  }
 ],
 "metadata": {
  "kernelspec": {
   "display_name": "Python 3",
   "language": "python",
   "name": "python3"
  },
  "language_info": {
   "codemirror_mode": {
    "name": "ipython",
    "version": 3
   },
   "file_extension": ".py",
   "mimetype": "text/x-python",
   "name": "python",
   "nbconvert_exporter": "python",
   "pygments_lexer": "ipython3",
   "version": "3.6.3"
  }
 },
 "nbformat": 4,
 "nbformat_minor": 2
}
