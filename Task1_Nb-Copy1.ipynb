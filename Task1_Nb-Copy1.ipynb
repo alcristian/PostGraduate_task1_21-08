{
 "cells": [
  {
   "cell_type": "markdown",
   "metadata": {},
   "source": [
    "# <font color='blue'> Unisinos Data Science\n",
    "\n",
    "### <font color='blue'>Python Task1\n",
    "\n",
    "##### <font color='blue'> @Author: Alvaro Cristian Botelho\n"
   ]
  },
  {
   "cell_type": "markdown",
   "metadata": {},
   "source": [
    "##### <font color='Gray'> Exercício 1 - Crie um dataframe com 10 colunas e 40 linhas e imprima na tela as primeiras 6 linhas (Pode ser o mesmo da tarefa com Rstudio).\n"
   ]
  },
  {
   "cell_type": "code",
   "execution_count": 30,
   "metadata": {},
   "outputs": [
    {
     "name": "stdout",
     "output_type": "stream",
     "text": [
      "           Country                               Region  Population     Area  \\\n",
      "0     Afghanistan         ASIA (EX. NEAR EAST)             31056997   647500   \n",
      "1         Albania   EASTERN EUROPE                          3581655    28748   \n",
      "2         Algeria   NORTHERN AFRICA                        32930091  2381740   \n",
      "3  American Samoa   OCEANIA                                   57794      199   \n",
      "4         Andorra   WESTERN EUROPE                            71201      468   \n",
      "5          Angola   SUB-SAHARAN AFRICA                     12127071  1246700   \n",
      "\n",
      "  Pop. Density (per sq. mi.) Coastline (coast/area ratio) Net migration  \\\n",
      "0                       48,0                         0,00         23,06   \n",
      "1                      124,6                         1,26         -4,93   \n",
      "2                       13,8                         0,04         -0,39   \n",
      "3                      290,4                        58,29        -20,71   \n",
      "4                      152,1                         0,00           6,6   \n",
      "5                        9,7                         0,13             0   \n",
      "\n",
      "  Infant mortality (per 1000 births)  GDP ($ per capita) Literacy (%)  \\\n",
      "0                             163,07               700.0         36,0   \n",
      "1                              21,52              4500.0         86,5   \n",
      "2                                 31              6000.0         70,0   \n",
      "3                               9,27              8000.0         97,0   \n",
      "4                               4,05             19000.0        100,0   \n",
      "5                             191,19              1900.0         42,0   \n",
      "\n",
      "  Phones (per 1000) Arable (%) Crops (%) Other (%) Climate Birthrate  \\\n",
      "0               3,2      12,13      0,22     87,65       1      46,6   \n",
      "1              71,2      21,09      4,42     74,49       3     15,11   \n",
      "2              78,1       3,22      0,25     96,53       1     17,14   \n",
      "3             259,5         10        15        75       2     22,46   \n",
      "4             497,2       2,22         0     97,78       3      8,71   \n",
      "5               7,8       2,41      0,24     97,35     NaN     45,11   \n",
      "\n",
      "  Deathrate Agriculture Industry Service  \n",
      "0     20,34        0,38     0,24    0,38  \n",
      "1      5,22       0,232    0,188   0,579  \n",
      "2      4,61       0,101      0,6   0,298  \n",
      "3      3,27         NaN      NaN     NaN  \n",
      "4      6,25         NaN      NaN     NaN  \n",
      "5      24,2       0,096    0,658   0,246  \n"
     ]
    }
   ],
   "source": [
    "import pandas as pd\n",
    "import matplotlib.mlab as mlab\n",
    "import matplotlib.pyplot as plt\n",
    "\n",
    "#####Exercício 1 - Crie um dataframe com 10 colunas e 40 linhas e imprima na tela as primeiras 6 linhas (Pode ser o mesmo da tarefa com Rstudio).\n",
    "Country_df = pd.read_csv(\"countries of the world.csv\")\n",
    "\n",
    "print(Country_df.head(6))"
   ]
  },
  {
   "cell_type": "markdown",
   "metadata": {},
   "source": [
    "##### <font color='Gray'> Exercício 2 – Mostre a que classe pertence cada uma das 10 colunas do seu dataframe."
   ]
  },
  {
   "cell_type": "code",
   "execution_count": 6,
   "metadata": {},
   "outputs": [
    {
     "data": {
      "text/plain": [
       "Country                                object\n",
       "Region                                 object\n",
       "Population                              int64\n",
       "Area                                    int64\n",
       "Pop. Density (per sq. mi.)             object\n",
       "Coastline (coast/area ratio)           object\n",
       "Net migration                          object\n",
       "Infant mortality (per 1000 births)     object\n",
       "GDP ($ per capita)                    float64\n",
       "Literacy (%)                           object\n",
       "Phones (per 1000)                      object\n",
       "Arable (%)                             object\n",
       "Crops (%)                              object\n",
       "Other (%)                              object\n",
       "Climate                                object\n",
       "Birthrate                              object\n",
       "Deathrate                              object\n",
       "Agriculture                            object\n",
       "Industry                               object\n",
       "Service                                object\n",
       "dtype: object"
      ]
     },
     "execution_count": 6,
     "metadata": {},
     "output_type": "execute_result"
    }
   ],
   "source": [
    "####Exercício 2 – Mostre a que classe pertence cada uma das 10 colunas do seu dataframe.\n",
    "\n",
    "Country_df.dtypes\n"
   ]
  },
  {
   "cell_type": "markdown",
   "metadata": {},
   "source": [
    "##### <font color='Gray'> ####Exercício 3 – Utilize um comando que faça uma avaliação exploratórias das variáveis do seu dataframe e imprima na tela. \n"
   ]
  },
  {
   "cell_type": "code",
   "execution_count": 7,
   "metadata": {},
   "outputs": [
    {
     "data": {
      "text/html": [
       "<div>\n",
       "<style>\n",
       "    .dataframe thead tr:only-child th {\n",
       "        text-align: right;\n",
       "    }\n",
       "\n",
       "    .dataframe thead th {\n",
       "        text-align: left;\n",
       "    }\n",
       "\n",
       "    .dataframe tbody tr th {\n",
       "        vertical-align: top;\n",
       "    }\n",
       "</style>\n",
       "<table border=\"1\" class=\"dataframe\">\n",
       "  <thead>\n",
       "    <tr style=\"text-align: right;\">\n",
       "      <th></th>\n",
       "      <th>Population</th>\n",
       "      <th>Area</th>\n",
       "      <th>GDP ($ per capita)</th>\n",
       "    </tr>\n",
       "  </thead>\n",
       "  <tbody>\n",
       "    <tr>\n",
       "      <th>count</th>\n",
       "      <td>2.270000e+02</td>\n",
       "      <td>2.270000e+02</td>\n",
       "      <td>226.000000</td>\n",
       "    </tr>\n",
       "    <tr>\n",
       "      <th>mean</th>\n",
       "      <td>2.874028e+07</td>\n",
       "      <td>5.982270e+05</td>\n",
       "      <td>9689.823009</td>\n",
       "    </tr>\n",
       "    <tr>\n",
       "      <th>std</th>\n",
       "      <td>1.178913e+08</td>\n",
       "      <td>1.790282e+06</td>\n",
       "      <td>10049.138513</td>\n",
       "    </tr>\n",
       "    <tr>\n",
       "      <th>min</th>\n",
       "      <td>7.026000e+03</td>\n",
       "      <td>2.000000e+00</td>\n",
       "      <td>500.000000</td>\n",
       "    </tr>\n",
       "    <tr>\n",
       "      <th>25%</th>\n",
       "      <td>4.376240e+05</td>\n",
       "      <td>4.647500e+03</td>\n",
       "      <td>1900.000000</td>\n",
       "    </tr>\n",
       "    <tr>\n",
       "      <th>50%</th>\n",
       "      <td>4.786994e+06</td>\n",
       "      <td>8.660000e+04</td>\n",
       "      <td>5550.000000</td>\n",
       "    </tr>\n",
       "    <tr>\n",
       "      <th>75%</th>\n",
       "      <td>1.749777e+07</td>\n",
       "      <td>4.418110e+05</td>\n",
       "      <td>15700.000000</td>\n",
       "    </tr>\n",
       "    <tr>\n",
       "      <th>max</th>\n",
       "      <td>1.313974e+09</td>\n",
       "      <td>1.707520e+07</td>\n",
       "      <td>55100.000000</td>\n",
       "    </tr>\n",
       "  </tbody>\n",
       "</table>\n",
       "</div>"
      ],
      "text/plain": [
       "         Population          Area  GDP ($ per capita)\n",
       "count  2.270000e+02  2.270000e+02          226.000000\n",
       "mean   2.874028e+07  5.982270e+05         9689.823009\n",
       "std    1.178913e+08  1.790282e+06        10049.138513\n",
       "min    7.026000e+03  2.000000e+00          500.000000\n",
       "25%    4.376240e+05  4.647500e+03         1900.000000\n",
       "50%    4.786994e+06  8.660000e+04         5550.000000\n",
       "75%    1.749777e+07  4.418110e+05        15700.000000\n",
       "max    1.313974e+09  1.707520e+07        55100.000000"
      ]
     },
     "execution_count": 7,
     "metadata": {},
     "output_type": "execute_result"
    }
   ],
   "source": [
    "####Exercício 3 – Utilize um comando que faça uma avaliação exploratórias das variáveis do seu dataframe e imprima na tela. \n",
    "\n",
    "Country_df.describe()\n"
   ]
  },
  {
   "cell_type": "markdown",
   "metadata": {},
   "source": [
    "##### <font color='Gray'>Exercício 4 - Adicione mais uma coluna gerada a partir da transformação de uma das 10 originais. \n"
   ]
  },
  {
   "cell_type": "code",
   "execution_count": 8,
   "metadata": {},
   "outputs": [
    {
     "name": "stdout",
     "output_type": "stream",
     "text": [
      "           Country                               Region  Population     Area  \\\n",
      "0     Afghanistan         ASIA (EX. NEAR EAST)             31056997   647500   \n",
      "1         Albania   EASTERN EUROPE                          3581655    28748   \n",
      "2         Algeria   NORTHERN AFRICA                        32930091  2381740   \n",
      "3  American Samoa   OCEANIA                                   57794      199   \n",
      "4         Andorra   WESTERN EUROPE                            71201      468   \n",
      "\n",
      "  Pop. Density (per sq. mi.) Coastline (coast/area ratio) Net migration  \\\n",
      "0                       48,0                         0,00         23,06   \n",
      "1                      124,6                         1,26         -4,93   \n",
      "2                       13,8                         0,04         -0,39   \n",
      "3                      290,4                        58,29        -20,71   \n",
      "4                      152,1                         0,00           6,6   \n",
      "\n",
      "  Infant mortality (per 1000 births)  GDP ($ per capita) Literacy (%)  \\\n",
      "0                             163,07               700.0         36,0   \n",
      "1                              21,52              4500.0         86,5   \n",
      "2                                 31              6000.0         70,0   \n",
      "3                               9,27              8000.0         97,0   \n",
      "4                               4,05             19000.0        100,0   \n",
      "\n",
      "      ...     Arable (%) Crops (%) Other (%) Climate Birthrate Deathrate  \\\n",
      "0     ...          12,13      0,22     87,65       1      46,6     20,34   \n",
      "1     ...          21,09      4,42     74,49       3     15,11      5,22   \n",
      "2     ...           3,22      0,25     96,53       1     17,14      4,61   \n",
      "3     ...             10        15        75       2     22,46      3,27   \n",
      "4     ...           2,22         0     97,78       3      8,71      6,25   \n",
      "\n",
      "  Agriculture Industry Service   Densidade  \n",
      "0        0,38     0,24    0,38   47.964474  \n",
      "1       0,232    0,188   0,579  124.587971  \n",
      "2       0,101      0,6   0,298   13.826065  \n",
      "3         NaN      NaN     NaN  290.422111  \n",
      "4         NaN      NaN     NaN  152.138889  \n",
      "\n",
      "[5 rows x 21 columns]\n"
     ]
    }
   ],
   "source": [
    "\n",
    "####Exercício 4 - Adicione mais uma coluna gerada a partir da transformação de uma das 10 originais. \n",
    "\n",
    "Density = []\n",
    "for index, row in Country_df.iterrows():\n",
    "    Density.append(row.Population/row.Area)\n",
    "\n",
    "Country_df['Densidade'] = Density\n",
    "\n",
    "print(Country_df.head(5))\n",
    "\n"
   ]
  },
  {
   "cell_type": "markdown",
   "metadata": {},
   "source": [
    "##### <font color='Gray'> Exercício 5 – Faça um gráfico que mostre a distribuição dos dados dessa nova variável do exercício 4.\n"
   ]
  },
  {
   "cell_type": "code",
   "execution_count": 29,
   "metadata": {},
   "outputs": [
    {
     "data": {
      "image/png": "[encoded data removed]",
      "text/plain": [
       "<matplotlib.figure.Figure at 0x1eaff1909b0>"
      ]
     },
     "metadata": {},
     "output_type": "display_data"
    }
   ],
   "source": [
    "####Exercício 5 – Faça um gráfico que mostre a distribuição dos dados dessa nova variável do exercício 4.\n",
    "plt.xlabel('Densidade')\n",
    "plt.ylabel('Per Capita')\n",
    "plt.show(plt.scatter(Country_df.Densidade, Country_df['GDP ($ per capita)']))"
   ]
  },
  {
   "cell_type": "markdown",
   "metadata": {},
   "source": [
    "##### <font color='Gray'> Exercício 6 - Relate (em poucas linhas) o que você entende por \"Árvore de Decisão\", indicando o que é, para que serve, quais os tipos de variáveis devem ser usadas como entrada e como saída. Pesquisa alguma biblioteca do Python que tenha funções úteis para árvore de decisão e cite aqui.\n",
    "\n",
    "\n",
    "##### <font color='Gray'> \n",
    "Arvore de Descisão é um mapa que mostra os possiveis resultados de uma series de escolhas. Pode ser utilizado para mapear escolhar e decidir qual é a melhor matematicamente.  \n",
    "Os preditores devem ser variaveis categóricas. Uma biblioteca utilizada para a montagem de arvores de descisão é o SKLearn \n",
    "\n",
    "\n"
   ]
  }
 ],
 "metadata": {
  "kernelspec": {
   "display_name": "Python 3",
   "language": "python",
   "name": "python3"
  },
  "language_info": {
   "codemirror_mode": {
    "name": "ipython",
    "version": 3
   },
   "file_extension": ".py",
   "mimetype": "text/x-python",
   "name": "python",
   "nbconvert_exporter": "python",
   "pygments_lexer": "ipython3",
   "version": "3.6.3"
  }
 },
 "nbformat": 4,
 "nbformat_minor": 2
}
