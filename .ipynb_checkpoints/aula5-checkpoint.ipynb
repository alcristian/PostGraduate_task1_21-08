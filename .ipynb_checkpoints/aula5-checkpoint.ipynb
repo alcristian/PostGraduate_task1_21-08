{
 "cells": [
  {
   "cell_type": "markdown",
   "metadata": {},
   "source": [
    "## Unisinos - Especialização\n",
    "### Profª Patricia Kuyven"
   ]
  },
  {
   "cell_type": "markdown",
   "metadata": {},
   "source": [
    "## Aula 5 - Listas e dicionários"
   ]
  },
  {
   "cell_type": "code",
   "execution_count": 3,
   "metadata": {
    "collapsed": true
   },
   "outputs": [],
   "source": [
    "#Atribuição de variáveis (qualquer coisa!)\n",
    "tempo_espera = 7\n",
    "valor = 15.00\n",
    "medico_atend = 'Gilson'"
   ]
  },
  {
   "cell_type": "code",
   "execution_count": null,
   "metadata": {
    "collapsed": true
   },
   "outputs": [],
   "source": [
    "#Verificação do tipo de variável para valor\n",
    "type(valor)"
   ]
  },
  {
   "cell_type": "code",
   "execution_count": null,
   "metadata": {
    "collapsed": true
   },
   "outputs": [],
   "source": [
    "#Verificação do tipo de variável para tempod e espera\n",
    "type(tempo_espera)"
   ]
  },
  {
   "cell_type": "code",
   "execution_count": null,
   "metadata": {
    "collapsed": true
   },
   "outputs": [],
   "source": [
    "#verificando resposta atrbuída para valor\n",
    "print(valor)"
   ]
  },
  {
   "cell_type": "markdown",
   "metadata": {},
   "source": [
    "#### Obs.: listas são colocadas entre [ ], tuplas entre ( ), e dicionários entre { }."
   ]
  },
  {
   "cell_type": "markdown",
   "metadata": {},
   "source": [
    "### Listas"
   ]
  },
  {
   "cell_type": "markdown",
   "metadata": {},
   "source": [
    "####  Uma lista é um conjunto de valores separados por vírgula."
   ]
  },
  {
   "cell_type": "code",
   "execution_count": 1,
   "metadata": {},
   "outputs": [
    {
     "data": {
      "text/plain": [
       "['tempo_espera', 'valor', 'medico_atend']"
      ]
     },
     "execution_count": 1,
     "metadata": {},
     "output_type": "execute_result"
    }
   ],
   "source": [
    "#Criando uma lista\n",
    "nome_colunas = [\"tempo_espera\", \"valor\", \"medico_atend\"]\n",
    "nome_colunas"
   ]
  },
  {
   "cell_type": "code",
   "execution_count": 4,
   "metadata": {},
   "outputs": [
    {
     "data": {
      "text/plain": [
       "[7, 15.0, 'Gilson']"
      ]
     },
     "execution_count": 4,
     "metadata": {},
     "output_type": "execute_result"
    }
   ],
   "source": [
    "#Criando outra lista\n",
    "linha1 = [tempo_espera, valor, medico_atend]\n",
    "linha1"
   ]
  },
  {
   "cell_type": "code",
   "execution_count": null,
   "metadata": {
    "collapsed": true
   },
   "outputs": [],
   "source": [
    "#Criando mais outra lista, kkkk\n",
    "linha2 = [3, 24.5, 'Clara']\n",
    "linha2"
   ]
  },
  {
   "cell_type": "code",
   "execution_count": null,
   "metadata": {
    "collapsed": true
   },
   "outputs": [],
   "source": [
    "bd = ['descrição', 'nome das colunas', 'conteúdo', 'variável_resposta']\n",
    "bd"
   ]
  },
  {
   "cell_type": "markdown",
   "metadata": {},
   "source": [
    "### Dicionários\n",
    "Os elementos de um dicionário aparecem em uma lista separada por vírgulas. Cada entrada contêm um indice e um valor separado por dois-pontos. Em um dicionário, os índices sao chamados de chaves, entao os elementos são chamados de pares chave-valor.\n",
    "\n"
   ]
  },
  {
   "cell_type": "code",
   "execution_count": 5,
   "metadata": {},
   "outputs": [
    {
     "data": {
      "text/plain": [
       "{'pac1': 7, 'pac2': 3, 'pac3': 4, 'pac4': 6, 'pac5': 2}"
      ]
     },
     "execution_count": 5,
     "metadata": {},
     "output_type": "execute_result"
    }
   ],
   "source": [
    "# Criando dicionário com dados de uma coluna de base de dados\n",
    "tempo_espera = {'pac1':7,'pac2':3, 'pac3':4, 'pac4':6, 'pac5':2}\n",
    "tempo_espera"
   ]
  },
  {
   "cell_type": "code",
   "execution_count": 6,
   "metadata": {},
   "outputs": [
    {
     "data": {
      "text/plain": [
       "3"
      ]
     },
     "execution_count": 6,
     "metadata": {},
     "output_type": "execute_result"
    }
   ],
   "source": [
    "#posso verificar o tempo de espera do paciente 2\n",
    "tempo_espera['pac2']"
   ]
  },
  {
   "cell_type": "code",
   "execution_count": 9,
   "metadata": {},
   "outputs": [
    {
     "data": {
      "text/plain": [
       "dict_keys(['pac1', 'pac2', 'pac3', 'pac4', 'pac5'])"
      ]
     },
     "execution_count": 9,
     "metadata": {},
     "output_type": "execute_result"
    }
   ],
   "source": [
    "#posso verificar quais as chaves de tempo_espera\n",
    "tempo_espera.keys()"
   ]
  },
  {
   "cell_type": "code",
   "execution_count": 8,
   "metadata": {},
   "outputs": [
    {
     "data": {
      "text/plain": [
       "dict_values([7, 3, 4, 6, 2])"
      ]
     },
     "execution_count": 8,
     "metadata": {},
     "output_type": "execute_result"
    }
   ],
   "source": [
    "#posso verificar os tempos de espera para todos esses pacientes\n",
    "tempo_espera.values()"
   ]
  },
  {
   "cell_type": "code",
   "execution_count": 10,
   "metadata": {
    "collapsed": true
   },
   "outputs": [],
   "source": [
    "# Criando um dicionário que contém listas\n",
    "nome_colunas = ['var1','var2','saída']\n",
    "descricao_base = (\"Essa é uma base simples para exemplo criada na aula de 17/09. Ela contém variáveis explicativas e uma variável resposta\")\n",
    "var1 = [34, 24, 57, 48]\n",
    "bd ={1:nome_colunas, 2:descricao_base, 3:var1}"
   ]
  },
  {
   "cell_type": "code",
   "execution_count": 11,
   "metadata": {},
   "outputs": [
    {
     "data": {
      "text/plain": [
       "'Essa é uma base simples para exemplo criada na aula de 17/09. Ela contém variáveis explicativas e uma variável resposta'"
      ]
     },
     "execution_count": 11,
     "metadata": {},
     "output_type": "execute_result"
    }
   ],
   "source": [
    "bd[2]"
   ]
  },
  {
   "cell_type": "code",
   "execution_count": 12,
   "metadata": {},
   "outputs": [
    {
     "data": {
      "text/plain": [
       "['var1', 'var2', 'saída']"
      ]
     },
     "execution_count": 12,
     "metadata": {},
     "output_type": "execute_result"
    }
   ],
   "source": [
    "bd[1]"
   ]
  },
  {
   "cell_type": "code",
   "execution_count": 13,
   "metadata": {},
   "outputs": [
    {
     "data": {
      "text/plain": [
       "[34, 24, 57, 48]"
      ]
     },
     "execution_count": 13,
     "metadata": {},
     "output_type": "execute_result"
    }
   ],
   "source": [
    "bd[3]"
   ]
  },
  {
   "cell_type": "code",
   "execution_count": 14,
   "metadata": {
    "collapsed": true
   },
   "outputs": [],
   "source": [
    "import csv\n",
    "dados = {} \n",
    "with open(\"dados_jogo.csv\") as arquivocsv:\n",
    "    ler = csv.DictReader(arquivocsv, delimiter=\";\")\n",
    "    for linha in ler:\n",
    "        for chave, valor in linha.items():\n",
    "            if chave not in dados:\n",
    "                 dados[chave] = []\n",
    "            dados[chave].append(valor)"
   ]
  },
  {
   "cell_type": "code",
   "execution_count": 15,
   "metadata": {},
   "outputs": [
    {
     "data": {
      "text/plain": [
       "dict_keys(['ï»¿sexo', 'altura', 'classe', 'joga'])"
      ]
     },
     "execution_count": 15,
     "metadata": {},
     "output_type": "execute_result"
    }
   ],
   "source": [
    "dados.keys()"
   ]
  },
  {
   "cell_type": "code",
   "execution_count": 16,
   "metadata": {},
   "outputs": [
    {
     "data": {
      "text/plain": [
       "dict_values([['1', '1', '1', '1', '1', '1', '1', '1', '1', '1', '2', '2', '2', '2', '2', '2', '2', '2', '2', '2', '2', '2', '2', '2', '2', '2', '2', '2', '2', '2'], ['0', '0', '0', '0', '0', '0', '1', '1', '1', '1', '0', '0', '0', '0', '0', '0', '1', '1', '1', '1', '1', '1', '1', '1', '1', '1', '1', '1', '1', '1'], ['9', '9', '9', '10', '10', '10', '9', '9', '9', '10', '10', '10', '9', '9', '9', '10', '10', '10', '9', '9', '9', '10', '10', '10', '9', '9', '10', '10', '10', '10'], ['1', '0', '0', '0', '0', '0', '0', '0', '0', '1', '1', '1', '1', '0', '0', '1', '0', '1', '1', '1', '1', '1', '1', '1', '1', '0', '1', '0', '0', '0']])"
      ]
     },
     "execution_count": 16,
     "metadata": {},
     "output_type": "execute_result"
    }
   ],
   "source": [
    "dados.values()"
   ]
  },
  {
   "cell_type": "code",
   "execution_count": 17,
   "metadata": {},
   "outputs": [
    {
     "data": {
      "text/plain": [
       "['9',\n",
       " '9',\n",
       " '9',\n",
       " '10',\n",
       " '10',\n",
       " '10',\n",
       " '9',\n",
       " '9',\n",
       " '9',\n",
       " '10',\n",
       " '10',\n",
       " '10',\n",
       " '9',\n",
       " '9',\n",
       " '9',\n",
       " '10',\n",
       " '10',\n",
       " '10',\n",
       " '9',\n",
       " '9',\n",
       " '9',\n",
       " '10',\n",
       " '10',\n",
       " '10',\n",
       " '9',\n",
       " '9',\n",
       " '10',\n",
       " '10',\n",
       " '10',\n",
       " '10']"
      ]
     },
     "execution_count": 17,
     "metadata": {},
     "output_type": "execute_result"
    }
   ],
   "source": [
    "dados['classe']"
   ]
  },
  {
   "cell_type": "code",
   "execution_count": null,
   "metadata": {
    "collapsed": true
   },
   "outputs": [],
   "source": []
  }
 ],
 "metadata": {
  "kernelspec": {
   "display_name": "Python 3",
   "language": "python",
   "name": "python3"
  },
  "language_info": {
   "codemirror_mode": {
    "name": "ipython",
    "version": 3
   },
   "file_extension": ".py",
   "mimetype": "text/x-python",
   "name": "python",
   "nbconvert_exporter": "python",
   "pygments_lexer": "ipython3",
   "version": "3.6.3"
  }
 },
 "nbformat": 4,
 "nbformat_minor": 2
}
